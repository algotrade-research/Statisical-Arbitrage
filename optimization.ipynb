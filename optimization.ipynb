{
 "cells": [
  {
   "cell_type": "code",
   "execution_count": 9,
   "metadata": {},
   "outputs": [],
   "source": [
    "import optuna\n",
    "import pandas as pd\n",
    "import yfinance as yf\n",
    "from typing import List, Dict, Tuple\n",
    "import numpy as np\n",
    "from statsmodels.tsa.vector_ar.vecm import coint_johansen\n",
    "from statsmodels.tsa.stattools import adfuller\n",
    "import os\n",
    "from statsmodels.tsa.api import AutoReg\n",
    "from scipy.stats import pearsonr\n",
    "from sklearn.cluster import KMeans\n",
    "from sklearn.metrics import silhouette_score\n",
    "import statsmodels.api as sm\n",
    "import matplotlib.pyplot as plt\n",
    "import psycopg2\n",
    "import time\n",
    "from datetime import timedelta,datetime\n",
    "from helper import *\n",
    "import pandas as pd\n",
    "import yfinance as yf\n",
    "import numpy as np\n",
    "import random\n",
    "import os\n",
    "\n",
    "import psycopg2\n",
    "import time\n",
    "from datetime import timedelta,datetime\n",
    "from forming_combination.data_handler import DataHandler\n",
    "from forming_combination.combination_formation import Combination_Formations\n",
    "from signal_generation.signal_generator import process_results_df\n",
    "from backtesting.port_mana import PortfolioManager\n",
    "from utils.helper import plot_asset_balance, generate_periods_df,run_backtest_for_periods\n",
    "from utils.calculate_metrics import calculate_shapre_and_mdd\n",
    "from data.get_data import *\n",
    "from optuna import *\n",
    "from optuna.pruners import MedianPruner\n",
    "# Set up logging to see Optuna's internal messages\n",
    "optuna.logging.set_verbosity(optuna.logging.INFO)\n",
    "pd.set_option('future.no_silent_downcasting', True)\n",
    "import warnings\n",
    "\n",
    "# Suppress the specific Optuna warning\n",
    "warnings.filterwarnings(\n",
    "    \"ignore\",\n",
    "    category=UserWarning,\n",
    "    module=\"optuna.distributions\"\n",
    ")\n",
    "# Set random seeds for reproducibility\n",
    "SEED = 42  # You can choose any integer\n",
    "random.seed(SEED)\n",
    "np.random.seed(SEED)\n",
    "os.environ[\"PYTHONHASHSEED\"] = str(SEED)  # For hash-based operations"
   ]
  },
  {
   "cell_type": "code",
   "execution_count": 2,
   "metadata": {},
   "outputs": [],
   "source": [
    "vn30_stocks = pd.read_csv('optimization_data/vn30_stocks.csv', index_col=0, parse_dates=True)\n",
    "# Load data once at the start\n",
    "etf_list = ['FUEVFVND', 'FUESSVFL', 'E1VFVN30', 'FUEVN100']\n",
    "start_date = '2021-06-01'\n",
    "end_date = '2025-01-01'\n",
    "periods_df = generate_periods_df(\n",
    "        vn30_stocks,\n",
    "        start_date,\n",
    "        end_date,\n",
    "        window=80,\n",
    "    )"
   ]
  },
  {
   "cell_type": "code",
   "execution_count": 3,
   "metadata": {},
   "outputs": [
    {
     "data": {
      "text/html": [
       "<div>\n",
       "<style scoped>\n",
       "    .dataframe tbody tr th:only-of-type {\n",
       "        vertical-align: middle;\n",
       "    }\n",
       "\n",
       "    .dataframe tbody tr th {\n",
       "        vertical-align: top;\n",
       "    }\n",
       "\n",
       "    .dataframe thead th {\n",
       "        text-align: right;\n",
       "    }\n",
       "</style>\n",
       "<table border=\"1\" class=\"dataframe\">\n",
       "  <thead>\n",
       "    <tr style=\"text-align: right;\">\n",
       "      <th></th>\n",
       "      <th>stocks_list</th>\n",
       "      <th>start_date</th>\n",
       "      <th>end_date</th>\n",
       "    </tr>\n",
       "  </thead>\n",
       "  <tbody>\n",
       "    <tr>\n",
       "      <th>0</th>\n",
       "      <td>[ACB, BID, BVH, CTG, FPT, GAS, GVR, HDB, HPG, ...</td>\n",
       "      <td>2021-06-01</td>\n",
       "      <td>2022-07-31</td>\n",
       "    </tr>\n",
       "    <tr>\n",
       "      <th>1</th>\n",
       "      <td>[ACB, BID, BVH, CTG, FPT, GAS, GVR, HDB, HPG, ...</td>\n",
       "      <td>2022-05-13</td>\n",
       "      <td>2023-02-05</td>\n",
       "    </tr>\n",
       "    <tr>\n",
       "      <th>2</th>\n",
       "      <td>[ACB, BCM, BID, BVH, CTG, FPT, GAS, GVR, HDB, ...</td>\n",
       "      <td>2022-11-18</td>\n",
       "      <td>2023-08-06</td>\n",
       "    </tr>\n",
       "    <tr>\n",
       "      <th>3</th>\n",
       "      <td>[ACB, BCM, BID, BVH, CTG, FPT, GAS, GVR, HDB, ...</td>\n",
       "      <td>2023-05-19</td>\n",
       "      <td>2025-01-01</td>\n",
       "    </tr>\n",
       "  </tbody>\n",
       "</table>\n",
       "</div>"
      ],
      "text/plain": [
       "                                         stocks_list  start_date    end_date\n",
       "0  [ACB, BID, BVH, CTG, FPT, GAS, GVR, HDB, HPG, ...  2021-06-01  2022-07-31\n",
       "1  [ACB, BID, BVH, CTG, FPT, GAS, GVR, HDB, HPG, ...  2022-05-13  2023-02-05\n",
       "2  [ACB, BCM, BID, BVH, CTG, FPT, GAS, GVR, HDB, ...  2022-11-18  2023-08-06\n",
       "3  [ACB, BCM, BID, BVH, CTG, FPT, GAS, GVR, HDB, ...  2023-05-19  2025-01-01"
      ]
     },
     "execution_count": 3,
     "metadata": {},
     "output_type": "execute_result"
    }
   ],
   "source": [
    "periods_df"
   ]
  },
  {
   "cell_type": "code",
   "execution_count": 4,
   "metadata": {},
   "outputs": [],
   "source": [
    "def objective(trial):\n",
    "    # Suggest parameters to tune\n",
    "    estimation_window = trial.suggest_int(\"estimation_window\", 40, 80, step=10)\n",
    "    min_trading_days_fraction = trial.suggest_float(\n",
    "        \"min_trading_days\", 1 / 3, 2 / 3, step=1 / 6\n",
    "    )\n",
    "    min_trading_days = int(min_trading_days_fraction * estimation_window)  # Convert fraction to days\n",
    "    max_clusters = trial.suggest_int(\"max_clusters\", 6, 12, step=3)\n",
    "    top_stocks = trial.suggest_int(\"top_stocks\", 6, 12, step=3)\n",
    "    correlation_threshold = trial.suggest_float(\n",
    "        \"correlation_threshold\", 0.4, 0.8, step=0.2\n",
    "    )\n",
    "    residual_threshold = trial.suggest_float(\n",
    "        \"residual_threshold\", 0.15, 0.45, step=0.15\n",
    "    )\n",
    "    ou_window = estimation_window  # Typo fixed: ou_winodw -> ou_window\n",
    "    tier = trial.suggest_int(\"tier\", 1, 7, step=1)\n",
    "    first_allocation = trial.suggest_float(\"first_allocation\", 0.3, 0.6, step=0.1)\n",
    "    adding_allocation = trial.suggest_float(\"adding_allocation\", 0.1, 0.3, step=0.1)\n",
    "    # Run backtest with suggested parameters\n",
    "    combined_returns_df, _, _ = run_backtest_for_periods(\n",
    "        periods_df=periods_df,\n",
    "        futures=\"VN30F1M\",\n",
    "        etf_list=etf_list,\n",
    "        etf_included=False,\n",
    "        estimation_window=estimation_window,\n",
    "        min_trading_days=min_trading_days_fraction * estimation_window,  # Convert fraction to days\n",
    "        max_clusters=max_clusters,\n",
    "        top_stocks=top_stocks,\n",
    "        correlation_threshold=correlation_threshold,\n",
    "        residual_threshold=residual_threshold,\n",
    "        tier=tier,\n",
    "        first_allocation=first_allocation,\n",
    "        adding_allocation=adding_allocation,\n",
    "        use_existing_data=True\n",
    "    )\n",
    "\n",
    "    # Split into train and test sets\n",
    "    train_set = combined_returns_df[combined_returns_df.index < \"2024-01-01\"]\n",
    "    test_set = combined_returns_df[combined_returns_df.index >= \"2024-01-01\"]\n",
    "\n",
    "    # Calculate metrics for train set (optimization targets)\n",
    "    sharpe_train,max_drawdown_train = calculate_shapre_and_mdd(train_set, risk_free_rate=0.05)\n",
    "\n",
    "    # Calculate metrics for test set (for reporting, not optimization)\n",
    "    sharpe_test, max_drawdown_test = calculate_shapre_and_mdd(test_set, risk_free_rate=0.05)\n",
    "\n",
    "    # Store test set metrics for later analysis\n",
    "    trial.set_user_attr(\"sharpe_test\", sharpe_test)\n",
    "    trial.set_user_attr(\"max_drawdown_test\", max_drawdown_test)\n",
    "\n",
    "    # Return tuple for multi-objective optimization (maximize Sharpe, minimize drawdown)\n",
    "    return sharpe_train, max_drawdown_train\n",
    "\n"
   ]
  },
  {
   "cell_type": "code",
   "execution_count": null,
   "metadata": {},
   "outputs": [
    {
     "name": "stderr",
     "output_type": "stream",
     "text": [
      "[I 2025-03-31 12:23:27,676] A new study created in memory with name: vn30_arbitrage_tuning\n",
      "[I 2025-03-31 12:37:26,098] Trial 0 finished with values: [-2.7083470730186483, 0.20484396764566193] and parameters: {'estimation_window': 40, 'min_trading_days': 0.3333333333333333, 'max_clusters': 6, 'top_stocks': 6, 'correlation_threshold': 0.4, 'residual_threshold': 0.15, 'tier': 4, 'first_allocation': 0.4, 'adding_allocation': 0.3}.\n",
      "[I 2025-03-31 12:47:37,497] Trial 1 finished with values: [-2.4600370783057066, 0.2640421360153262] and parameters: {'estimation_window': 60, 'min_trading_days': 0.3333333333333333, 'max_clusters': 12, 'top_stocks': 6, 'correlation_threshold': 0.6000000000000001, 'residual_threshold': 0.44999999999999996, 'tier': 3, 'first_allocation': 0.4, 'adding_allocation': 0.2}.\n",
      "[I 2025-03-31 12:54:06,247] Trial 2 finished with values: [-1.4529276131732094, 0.37177258809714353] and parameters: {'estimation_window': 80, 'min_trading_days': 0.3333333333333333, 'max_clusters': 6, 'top_stocks': 6, 'correlation_threshold': 0.4, 'residual_threshold': 0.44999999999999996, 'tier': 7, 'first_allocation': 0.6, 'adding_allocation': 0.2}.\n",
      "[I 2025-03-31 13:02:41,229] Trial 3 finished with values: [-2.5009368453052443, 0.09907675025442275] and parameters: {'estimation_window': 60, 'min_trading_days': 0.3333333333333333, 'max_clusters': 6, 'top_stocks': 12, 'correlation_threshold': 0.4, 'residual_threshold': 0.15, 'tier': 3, 'first_allocation': 0.5, 'adding_allocation': 0.1}.\n"
     ]
    }
   ],
   "source": [
    "# Create an Optuna study with multi-objective optimization\n",
    "study = optuna.create_study(\n",
    "    directions=[\"maximize\", \"minimize\"],  # Maximize Sharpe, minimize drawdown\n",
    "    sampler=optuna.samplers.TPESampler(seed=SEED),\n",
    "    study_name=\"vn30_arbitrage_tuning\",\n",
    "    load_if_exists=True,\n",
    "    pruner=MedianPruner()\n",
    ")\n",
    "\n",
    "# Optimize with a moderate number of trials\n",
    "study.optimize(objective, n_trials=4)\n",
    "\n"
   ]
  },
  {
   "cell_type": "code",
   "execution_count": 6,
   "metadata": {},
   "outputs": [
    {
     "name": "stdout",
     "output_type": "stream",
     "text": [
      "Best Train Sharpe Ratio: -2.4600370783057066\n",
      "Best Train Max Drawdown: 0.2640421360153262\n",
      "Test Sharpe Ratio: -1.4327260486139113\n",
      "Test Max Drawdown: 0.07125794130377028\n",
      "Best Parameters: {'estimation_window': 60, 'min_trading_days': 0.3333333333333333, 'max_clusters': 12, 'top_stocks': 6, 'correlation_threshold': 0.6000000000000001, 'residual_threshold': 0.44999999999999996, 'tier': 3, 'first_allocation': 0.4, 'adding_allocation': 0.2}\n"
     ]
    }
   ],
   "source": [
    "# Print the best results\n",
    "best_trial = study.best_trials[0]  # Get the best trial (Pareto optimal)\n",
    "best_params = best_trial.params\n",
    "best_sharpe_train = best_trial.values[0]\n",
    "best_drawdown_train = best_trial.values[1]\n",
    "best_sharpe_test = best_trial.user_attrs[\"sharpe_test\"]\n",
    "best_drawdown_test = best_trial.user_attrs[\"max_drawdown_test\"]\n",
    "\n",
    "print(f\"Best Train Sharpe Ratio: {best_sharpe_train}\")\n",
    "print(f\"Best Train Max Drawdown: {best_drawdown_train}\")\n",
    "print(f\"Test Sharpe Ratio: {best_sharpe_test}\")\n",
    "print(f\"Test Max Drawdown: {best_drawdown_test}\")\n",
    "print(f\"Best Parameters: {best_params}\")\n",
    "# Save all trials to CSV with custom column names matching variable names\n",
    "trials_df = study.trials_dataframe()\n",
    "\n",
    "# Rename columns to match your variable names\n",
    "column_mapping = {\n",
    "    'values_0': 'best_sharpe_train',\n",
    "    'values_1': 'best_drawdown_train',\n",
    "    'user_attrs_sharpe_test': 'best_sharpe_test',\n",
    "    'user_attrs_max_drawdown_test': 'best_drawdown_test',\n",
    "}\n",
    "\n",
    "# Rename the columns in the DataFrame\n",
    "trials_df.rename(columns=column_mapping, inplace=True)\n",
    "\n",
    "# Keep only relevant columns (optional, remove if you want all columns)\n",
    "relevant_columns = ['number', 'best_sharpe_train', 'best_drawdown_train', \n",
    "                   'best_sharpe_test', 'best_drawdown_test'] + [f'params_{p}' for p in best_params.keys()]\n",
    "trials_df = trials_df[relevant_columns]\n",
    "\n",
    "# Save to CSV\n",
    "trials_df.to_csv(\"optuna_trials.csv\", index=False)"
   ]
  },
  {
   "cell_type": "code",
   "execution_count": 7,
   "metadata": {},
   "outputs": [
    {
     "name": "stderr",
     "output_type": "stream",
     "text": [
      "c:\\python\\.venv\\Lib\\site-packages\\optuna\\visualization\\_utils.py:67: UserWarning: `target` is specified, but `target_name` is the default value, 'Objective Value'.\n",
      "  warnings.warn(\n"
     ]
    },
    {
     "data": {
      "application/vnd.plotly.v1+json": {
       "config": {
        "plotlyServerURL": "https://plot.ly"
       },
       "data": [
        {
         "cliponaxis": false,
         "hovertemplate": [
          "min_trading_days (FloatDistribution): 0.0<extra></extra>",
          "correlation_threshold (FloatDistribution): 0.000786860837319602<extra></extra>",
          "top_stocks (IntDistribution): 0.01693006921764393<extra></extra>",
          "max_clusters (IntDistribution): 0.03239831760621803<extra></extra>",
          "residual_threshold (FloatDistribution): 0.09567397554562956<extra></extra>",
          "estimation_window (IntDistribution): 0.1721163521275898<extra></extra>",
          "adding_allocation (FloatDistribution): 0.1804264114691978<extra></extra>",
          "first_allocation (FloatDistribution): 0.24824252129767407<extra></extra>",
          "tier (IntDistribution): 0.2534254918987272<extra></extra>"
         ],
         "name": "Objective Value",
         "orientation": "h",
         "text": [
          "<0.01",
          "<0.01",
          "0.02",
          "0.03",
          "0.10",
          "0.17",
          "0.18",
          "0.25",
          "0.25"
         ],
         "textposition": "outside",
         "type": "bar",
         "x": [
          0,
          0.000786860837319602,
          0.01693006921764393,
          0.03239831760621803,
          0.09567397554562956,
          0.1721163521275898,
          0.1804264114691978,
          0.24824252129767407,
          0.2534254918987272
         ],
         "y": [
          "min_trading_days",
          "correlation_threshold",
          "top_stocks",
          "max_clusters",
          "residual_threshold",
          "estimation_window",
          "adding_allocation",
          "first_allocation",
          "tier"
         ]
        }
       ],
       "layout": {
        "template": {
         "data": {
          "bar": [
           {
            "error_x": {
             "color": "#2a3f5f"
            },
            "error_y": {
             "color": "#2a3f5f"
            },
            "marker": {
             "line": {
              "color": "#E5ECF6",
              "width": 0.5
             },
             "pattern": {
              "fillmode": "overlay",
              "size": 10,
              "solidity": 0.2
             }
            },
            "type": "bar"
           }
          ],
          "barpolar": [
           {
            "marker": {
             "line": {
              "color": "#E5ECF6",
              "width": 0.5
             },
             "pattern": {
              "fillmode": "overlay",
              "size": 10,
              "solidity": 0.2
             }
            },
            "type": "barpolar"
           }
          ],
          "carpet": [
           {
            "aaxis": {
             "endlinecolor": "#2a3f5f",
             "gridcolor": "white",
             "linecolor": "white",
             "minorgridcolor": "white",
             "startlinecolor": "#2a3f5f"
            },
            "baxis": {
             "endlinecolor": "#2a3f5f",
             "gridcolor": "white",
             "linecolor": "white",
             "minorgridcolor": "white",
             "startlinecolor": "#2a3f5f"
            },
            "type": "carpet"
           }
          ],
          "choropleth": [
           {
            "colorbar": {
             "outlinewidth": 0,
             "ticks": ""
            },
            "type": "choropleth"
           }
          ],
          "contour": [
           {
            "colorbar": {
             "outlinewidth": 0,
             "ticks": ""
            },
            "colorscale": [
             [
              0,
              "#0d0887"
             ],
             [
              0.1111111111111111,
              "#46039f"
             ],
             [
              0.2222222222222222,
              "#7201a8"
             ],
             [
              0.3333333333333333,
              "#9c179e"
             ],
             [
              0.4444444444444444,
              "#bd3786"
             ],
             [
              0.5555555555555556,
              "#d8576b"
             ],
             [
              0.6666666666666666,
              "#ed7953"
             ],
             [
              0.7777777777777778,
              "#fb9f3a"
             ],
             [
              0.8888888888888888,
              "#fdca26"
             ],
             [
              1,
              "#f0f921"
             ]
            ],
            "type": "contour"
           }
          ],
          "contourcarpet": [
           {
            "colorbar": {
             "outlinewidth": 0,
             "ticks": ""
            },
            "type": "contourcarpet"
           }
          ],
          "heatmap": [
           {
            "colorbar": {
             "outlinewidth": 0,
             "ticks": ""
            },
            "colorscale": [
             [
              0,
              "#0d0887"
             ],
             [
              0.1111111111111111,
              "#46039f"
             ],
             [
              0.2222222222222222,
              "#7201a8"
             ],
             [
              0.3333333333333333,
              "#9c179e"
             ],
             [
              0.4444444444444444,
              "#bd3786"
             ],
             [
              0.5555555555555556,
              "#d8576b"
             ],
             [
              0.6666666666666666,
              "#ed7953"
             ],
             [
              0.7777777777777778,
              "#fb9f3a"
             ],
             [
              0.8888888888888888,
              "#fdca26"
             ],
             [
              1,
              "#f0f921"
             ]
            ],
            "type": "heatmap"
           }
          ],
          "heatmapgl": [
           {
            "colorbar": {
             "outlinewidth": 0,
             "ticks": ""
            },
            "colorscale": [
             [
              0,
              "#0d0887"
             ],
             [
              0.1111111111111111,
              "#46039f"
             ],
             [
              0.2222222222222222,
              "#7201a8"
             ],
             [
              0.3333333333333333,
              "#9c179e"
             ],
             [
              0.4444444444444444,
              "#bd3786"
             ],
             [
              0.5555555555555556,
              "#d8576b"
             ],
             [
              0.6666666666666666,
              "#ed7953"
             ],
             [
              0.7777777777777778,
              "#fb9f3a"
             ],
             [
              0.8888888888888888,
              "#fdca26"
             ],
             [
              1,
              "#f0f921"
             ]
            ],
            "type": "heatmapgl"
           }
          ],
          "histogram": [
           {
            "marker": {
             "pattern": {
              "fillmode": "overlay",
              "size": 10,
              "solidity": 0.2
             }
            },
            "type": "histogram"
           }
          ],
          "histogram2d": [
           {
            "colorbar": {
             "outlinewidth": 0,
             "ticks": ""
            },
            "colorscale": [
             [
              0,
              "#0d0887"
             ],
             [
              0.1111111111111111,
              "#46039f"
             ],
             [
              0.2222222222222222,
              "#7201a8"
             ],
             [
              0.3333333333333333,
              "#9c179e"
             ],
             [
              0.4444444444444444,
              "#bd3786"
             ],
             [
              0.5555555555555556,
              "#d8576b"
             ],
             [
              0.6666666666666666,
              "#ed7953"
             ],
             [
              0.7777777777777778,
              "#fb9f3a"
             ],
             [
              0.8888888888888888,
              "#fdca26"
             ],
             [
              1,
              "#f0f921"
             ]
            ],
            "type": "histogram2d"
           }
          ],
          "histogram2dcontour": [
           {
            "colorbar": {
             "outlinewidth": 0,
             "ticks": ""
            },
            "colorscale": [
             [
              0,
              "#0d0887"
             ],
             [
              0.1111111111111111,
              "#46039f"
             ],
             [
              0.2222222222222222,
              "#7201a8"
             ],
             [
              0.3333333333333333,
              "#9c179e"
             ],
             [
              0.4444444444444444,
              "#bd3786"
             ],
             [
              0.5555555555555556,
              "#d8576b"
             ],
             [
              0.6666666666666666,
              "#ed7953"
             ],
             [
              0.7777777777777778,
              "#fb9f3a"
             ],
             [
              0.8888888888888888,
              "#fdca26"
             ],
             [
              1,
              "#f0f921"
             ]
            ],
            "type": "histogram2dcontour"
           }
          ],
          "mesh3d": [
           {
            "colorbar": {
             "outlinewidth": 0,
             "ticks": ""
            },
            "type": "mesh3d"
           }
          ],
          "parcoords": [
           {
            "line": {
             "colorbar": {
              "outlinewidth": 0,
              "ticks": ""
             }
            },
            "type": "parcoords"
           }
          ],
          "pie": [
           {
            "automargin": true,
            "type": "pie"
           }
          ],
          "scatter": [
           {
            "fillpattern": {
             "fillmode": "overlay",
             "size": 10,
             "solidity": 0.2
            },
            "type": "scatter"
           }
          ],
          "scatter3d": [
           {
            "line": {
             "colorbar": {
              "outlinewidth": 0,
              "ticks": ""
             }
            },
            "marker": {
             "colorbar": {
              "outlinewidth": 0,
              "ticks": ""
             }
            },
            "type": "scatter3d"
           }
          ],
          "scattercarpet": [
           {
            "marker": {
             "colorbar": {
              "outlinewidth": 0,
              "ticks": ""
             }
            },
            "type": "scattercarpet"
           }
          ],
          "scattergeo": [
           {
            "marker": {
             "colorbar": {
              "outlinewidth": 0,
              "ticks": ""
             }
            },
            "type": "scattergeo"
           }
          ],
          "scattergl": [
           {
            "marker": {
             "colorbar": {
              "outlinewidth": 0,
              "ticks": ""
             }
            },
            "type": "scattergl"
           }
          ],
          "scattermapbox": [
           {
            "marker": {
             "colorbar": {
              "outlinewidth": 0,
              "ticks": ""
             }
            },
            "type": "scattermapbox"
           }
          ],
          "scatterpolar": [
           {
            "marker": {
             "colorbar": {
              "outlinewidth": 0,
              "ticks": ""
             }
            },
            "type": "scatterpolar"
           }
          ],
          "scatterpolargl": [
           {
            "marker": {
             "colorbar": {
              "outlinewidth": 0,
              "ticks": ""
             }
            },
            "type": "scatterpolargl"
           }
          ],
          "scatterternary": [
           {
            "marker": {
             "colorbar": {
              "outlinewidth": 0,
              "ticks": ""
             }
            },
            "type": "scatterternary"
           }
          ],
          "surface": [
           {
            "colorbar": {
             "outlinewidth": 0,
             "ticks": ""
            },
            "colorscale": [
             [
              0,
              "#0d0887"
             ],
             [
              0.1111111111111111,
              "#46039f"
             ],
             [
              0.2222222222222222,
              "#7201a8"
             ],
             [
              0.3333333333333333,
              "#9c179e"
             ],
             [
              0.4444444444444444,
              "#bd3786"
             ],
             [
              0.5555555555555556,
              "#d8576b"
             ],
             [
              0.6666666666666666,
              "#ed7953"
             ],
             [
              0.7777777777777778,
              "#fb9f3a"
             ],
             [
              0.8888888888888888,
              "#fdca26"
             ],
             [
              1,
              "#f0f921"
             ]
            ],
            "type": "surface"
           }
          ],
          "table": [
           {
            "cells": {
             "fill": {
              "color": "#EBF0F8"
             },
             "line": {
              "color": "white"
             }
            },
            "header": {
             "fill": {
              "color": "#C8D4E3"
             },
             "line": {
              "color": "white"
             }
            },
            "type": "table"
           }
          ]
         },
         "layout": {
          "annotationdefaults": {
           "arrowcolor": "#2a3f5f",
           "arrowhead": 0,
           "arrowwidth": 1
          },
          "autotypenumbers": "strict",
          "coloraxis": {
           "colorbar": {
            "outlinewidth": 0,
            "ticks": ""
           }
          },
          "colorscale": {
           "diverging": [
            [
             0,
             "#8e0152"
            ],
            [
             0.1,
             "#c51b7d"
            ],
            [
             0.2,
             "#de77ae"
            ],
            [
             0.3,
             "#f1b6da"
            ],
            [
             0.4,
             "#fde0ef"
            ],
            [
             0.5,
             "#f7f7f7"
            ],
            [
             0.6,
             "#e6f5d0"
            ],
            [
             0.7,
             "#b8e186"
            ],
            [
             0.8,
             "#7fbc41"
            ],
            [
             0.9,
             "#4d9221"
            ],
            [
             1,
             "#276419"
            ]
           ],
           "sequential": [
            [
             0,
             "#0d0887"
            ],
            [
             0.1111111111111111,
             "#46039f"
            ],
            [
             0.2222222222222222,
             "#7201a8"
            ],
            [
             0.3333333333333333,
             "#9c179e"
            ],
            [
             0.4444444444444444,
             "#bd3786"
            ],
            [
             0.5555555555555556,
             "#d8576b"
            ],
            [
             0.6666666666666666,
             "#ed7953"
            ],
            [
             0.7777777777777778,
             "#fb9f3a"
            ],
            [
             0.8888888888888888,
             "#fdca26"
            ],
            [
             1,
             "#f0f921"
            ]
           ],
           "sequentialminus": [
            [
             0,
             "#0d0887"
            ],
            [
             0.1111111111111111,
             "#46039f"
            ],
            [
             0.2222222222222222,
             "#7201a8"
            ],
            [
             0.3333333333333333,
             "#9c179e"
            ],
            [
             0.4444444444444444,
             "#bd3786"
            ],
            [
             0.5555555555555556,
             "#d8576b"
            ],
            [
             0.6666666666666666,
             "#ed7953"
            ],
            [
             0.7777777777777778,
             "#fb9f3a"
            ],
            [
             0.8888888888888888,
             "#fdca26"
            ],
            [
             1,
             "#f0f921"
            ]
           ]
          },
          "colorway": [
           "#636efa",
           "#EF553B",
           "#00cc96",
           "#ab63fa",
           "#FFA15A",
           "#19d3f3",
           "#FF6692",
           "#B6E880",
           "#FF97FF",
           "#FECB52"
          ],
          "font": {
           "color": "#2a3f5f"
          },
          "geo": {
           "bgcolor": "white",
           "lakecolor": "white",
           "landcolor": "#E5ECF6",
           "showlakes": true,
           "showland": true,
           "subunitcolor": "white"
          },
          "hoverlabel": {
           "align": "left"
          },
          "hovermode": "closest",
          "mapbox": {
           "style": "light"
          },
          "paper_bgcolor": "white",
          "plot_bgcolor": "#E5ECF6",
          "polar": {
           "angularaxis": {
            "gridcolor": "white",
            "linecolor": "white",
            "ticks": ""
           },
           "bgcolor": "#E5ECF6",
           "radialaxis": {
            "gridcolor": "white",
            "linecolor": "white",
            "ticks": ""
           }
          },
          "scene": {
           "xaxis": {
            "backgroundcolor": "#E5ECF6",
            "gridcolor": "white",
            "gridwidth": 2,
            "linecolor": "white",
            "showbackground": true,
            "ticks": "",
            "zerolinecolor": "white"
           },
           "yaxis": {
            "backgroundcolor": "#E5ECF6",
            "gridcolor": "white",
            "gridwidth": 2,
            "linecolor": "white",
            "showbackground": true,
            "ticks": "",
            "zerolinecolor": "white"
           },
           "zaxis": {
            "backgroundcolor": "#E5ECF6",
            "gridcolor": "white",
            "gridwidth": 2,
            "linecolor": "white",
            "showbackground": true,
            "ticks": "",
            "zerolinecolor": "white"
           }
          },
          "shapedefaults": {
           "line": {
            "color": "#2a3f5f"
           }
          },
          "ternary": {
           "aaxis": {
            "gridcolor": "white",
            "linecolor": "white",
            "ticks": ""
           },
           "baxis": {
            "gridcolor": "white",
            "linecolor": "white",
            "ticks": ""
           },
           "bgcolor": "#E5ECF6",
           "caxis": {
            "gridcolor": "white",
            "linecolor": "white",
            "ticks": ""
           }
          },
          "title": {
           "x": 0.05
          },
          "xaxis": {
           "automargin": true,
           "gridcolor": "white",
           "linecolor": "white",
           "ticks": "",
           "title": {
            "standoff": 15
           },
           "zerolinecolor": "white",
           "zerolinewidth": 2
          },
          "yaxis": {
           "automargin": true,
           "gridcolor": "white",
           "linecolor": "white",
           "ticks": "",
           "title": {
            "standoff": 15
           },
           "zerolinecolor": "white",
           "zerolinewidth": 2
          }
         }
        },
        "title": {
         "text": "Hyperparameter Importances"
        },
        "xaxis": {
         "title": {
          "text": "Hyperparameter Importance"
         }
        },
        "yaxis": {
         "title": {
          "text": "Hyperparameter"
         }
        }
       }
      }
     },
     "metadata": {},
     "output_type": "display_data"
    }
   ],
   "source": [
    "# Visualize parameter importances (for Sharpe only, as it's multi-objective)\n",
    "optuna.visualization.plot_param_importances(study, target=lambda t: t.values[0]).show()"
   ]
  }
 ],
 "metadata": {
  "kernelspec": {
   "display_name": ".venv",
   "language": "python",
   "name": "python3"
  },
  "language_info": {
   "codemirror_mode": {
    "name": "ipython",
    "version": 3
   },
   "file_extension": ".py",
   "mimetype": "text/x-python",
   "name": "python",
   "nbconvert_exporter": "python",
   "pygments_lexer": "ipython3",
   "version": "3.12.0"
  }
 },
 "nbformat": 4,
 "nbformat_minor": 2
}
